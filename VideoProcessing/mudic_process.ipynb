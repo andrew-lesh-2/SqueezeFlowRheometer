{
 "cells": [
  {
   "cell_type": "code",
   "execution_count": 1,
   "metadata": {},
   "outputs": [
    {
     "ename": "ImportError",
     "evalue": "Numba needs NumPy 1.25 or less",
     "output_type": "error",
     "traceback": [
      "\u001b[1;31m---------------------------------------------------------------------------\u001b[0m",
      "\u001b[1;31mImportError\u001b[0m                               Traceback (most recent call last)",
      "\u001b[1;32mc:\\Users\\rcmoo\\Documents\\GitHub\\SqueezeFlowRheometer\\VideoProcessing\\mudic_process.ipynb Cell 1\u001b[0m line \u001b[0;36m1\n\u001b[1;32m----> <a href='vscode-notebook-cell:/c%3A/Users/rcmoo/Documents/GitHub/SqueezeFlowRheometer/VideoProcessing/mudic_process.ipynb#W0sZmlsZQ%3D%3D?line=0'>1</a>\u001b[0m \u001b[39mimport\u001b[39;00m \u001b[39mmuDIC\u001b[39;00m \u001b[39mas\u001b[39;00m \u001b[39mdic\u001b[39;00m\n\u001b[0;32m      <a href='vscode-notebook-cell:/c%3A/Users/rcmoo/Documents/GitHub/SqueezeFlowRheometer/VideoProcessing/mudic_process.ipynb#W0sZmlsZQ%3D%3D?line=2'>3</a>\u001b[0m path \u001b[39m=\u001b[39m \u001b[39mr\u001b[39m\u001b[39m\"\u001b[39m\u001b[39m/HEK/sequence/\u001b[39m\u001b[39m\"\u001b[39m\n\u001b[0;32m      <a href='vscode-notebook-cell:/c%3A/Users/rcmoo/Documents/GitHub/SqueezeFlowRheometer/VideoProcessing/mudic_process.ipynb#W0sZmlsZQ%3D%3D?line=3'>4</a>\u001b[0m image_stack \u001b[39m=\u001b[39m dic\u001b[39m.\u001b[39mimage_stack_from_folder(path, file_type\u001b[39m=\u001b[39m\u001b[39m\"\u001b[39m\u001b[39m.tif\u001b[39m\u001b[39m\"\u001b[39m)\n",
      "File \u001b[1;32mc:\\Python311\\Lib\\site-packages\\muDIC\\__init__.py:2\u001b[0m\n\u001b[0;32m      1\u001b[0m name \u001b[39m=\u001b[39m \u001b[39m\"\u001b[39m\u001b[39mmuDIC\u001b[39m\u001b[39m\"\u001b[39m\n\u001b[1;32m----> 2\u001b[0m \u001b[39mfrom\u001b[39;00m \u001b[39m.\u001b[39;00m\u001b[39msolver\u001b[39;00m \u001b[39mimport\u001b[39;00m DICInput\n\u001b[0;32m      3\u001b[0m \u001b[39mfrom\u001b[39;00m \u001b[39mmuDIC\u001b[39;00m\u001b[39m.\u001b[39;00m\u001b[39mpost\u001b[39;00m\u001b[39m.\u001b[39;00m\u001b[39mviz\u001b[39;00m \u001b[39mimport\u001b[39;00m Fields, Visualizer\n\u001b[0;32m      4\u001b[0m \u001b[39mfrom\u001b[39;00m \u001b[39mmuDIC\u001b[39;00m\u001b[39m.\u001b[39;00m\u001b[39msolver\u001b[39;00m\u001b[39m.\u001b[39;00m\u001b[39mcorrelate\u001b[39;00m \u001b[39mimport\u001b[39;00m DICInput, DICOutput\n",
      "File \u001b[1;32mc:\\Python311\\Lib\\site-packages\\muDIC\\solver\\__init__.py:3\u001b[0m\n\u001b[0;32m      1\u001b[0m \u001b[39mfrom\u001b[39;00m \u001b[39m__future__\u001b[39;00m \u001b[39mimport\u001b[39;00m absolute_import\n\u001b[1;32m----> 3\u001b[0m \u001b[39mfrom\u001b[39;00m \u001b[39m.\u001b[39;00m\u001b[39mcorrelate\u001b[39;00m \u001b[39mimport\u001b[39;00m DICAnalysis, DICInput\n\u001b[0;32m      4\u001b[0m \u001b[39mfrom\u001b[39;00m \u001b[39m.\u001b[39;00m\u001b[39mreference\u001b[39;00m \u001b[39mimport\u001b[39;00m generate_reference\n\u001b[0;32m      5\u001b[0m \u001b[39mfrom\u001b[39;00m \u001b[39m.\u001b[39;00m\u001b[39mreference_q4\u001b[39;00m \u001b[39mimport\u001b[39;00m generate_reference_Q4\n",
      "File \u001b[1;32mc:\\Python311\\Lib\\site-packages\\muDIC\\solver\\correlate.py:12\u001b[0m\n\u001b[0;32m     10\u001b[0m \u001b[39mfrom\u001b[39;00m \u001b[39m.\u001b[39;00m\u001b[39mreference_q4\u001b[39;00m \u001b[39mimport\u001b[39;00m generate_reference_Q4, find_elm_borders_mesh, normalized_zero_mean\n\u001b[0;32m     11\u001b[0m \u001b[39mfrom\u001b[39;00m \u001b[39m.\u001b[39;00m\u001b[39m.\u001b[39;00m\u001b[39mIO\u001b[39;00m\u001b[39m.\u001b[39;00m\u001b[39mimage_stack\u001b[39;00m \u001b[39mimport\u001b[39;00m ImageStack\n\u001b[1;32m---> 12\u001b[0m \u001b[39mfrom\u001b[39;00m \u001b[39m.\u001b[39;00m\u001b[39m.\u001b[39;00m\u001b[39melements\u001b[39;00m\u001b[39m.\u001b[39;00m\u001b[39mb_splines\u001b[39;00m \u001b[39mimport\u001b[39;00m BSplineSurface\n\u001b[0;32m     13\u001b[0m \u001b[39mfrom\u001b[39;00m \u001b[39m.\u001b[39;00m\u001b[39m.\u001b[39;00m\u001b[39melements\u001b[39;00m\u001b[39m.\u001b[39;00m\u001b[39mq4\u001b[39;00m \u001b[39mimport\u001b[39;00m Q4\n\u001b[0;32m     14\u001b[0m \u001b[39mfrom\u001b[39;00m \u001b[39m.\u001b[39;00m\u001b[39m.\u001b[39;00m\u001b[39mmesh\u001b[39;00m\u001b[39m.\u001b[39;00m\u001b[39mmeshUtilities\u001b[39;00m \u001b[39mimport\u001b[39;00m Mesh\n",
      "File \u001b[1;32mc:\\Python311\\Lib\\site-packages\\muDIC\\elements\\__init__.py:1\u001b[0m\n\u001b[1;32m----> 1\u001b[0m \u001b[39mfrom\u001b[39;00m \u001b[39m.\u001b[39;00m\u001b[39mb_splines\u001b[39;00m \u001b[39mimport\u001b[39;00m BSplineSurface\n\u001b[0;32m      2\u001b[0m \u001b[39mfrom\u001b[39;00m \u001b[39m.\u001b[39;00m\u001b[39mq4\u001b[39;00m \u001b[39mimport\u001b[39;00m Q4\n",
      "File \u001b[1;32mc:\\Python311\\Lib\\site-packages\\muDIC\\elements\\b_splines.py:4\u001b[0m\n\u001b[0;32m      1\u001b[0m \u001b[39mimport\u001b[39;00m \u001b[39mlogging\u001b[39;00m\n\u001b[0;32m      3\u001b[0m \u001b[39mimport\u001b[39;00m \u001b[39mnumpy\u001b[39;00m \u001b[39mas\u001b[39;00m \u001b[39mnp\u001b[39;00m\n\u001b[1;32m----> 4\u001b[0m \u001b[39mfrom\u001b[39;00m \u001b[39mnumba\u001b[39;00m \u001b[39mimport\u001b[39;00m jit, prange\n\u001b[0;32m      6\u001b[0m \u001b[39mfrom\u001b[39;00m \u001b[39m.\u001b[39;00m\u001b[39mfieldInterpolator\u001b[39;00m \u001b[39mimport\u001b[39;00m FieldInterpolator\n\u001b[0;32m      9\u001b[0m \u001b[39m# TODO: This thing should be refactored such that it runs i parallel\u001b[39;00m\n",
      "File \u001b[1;32m~\\AppData\\Roaming\\Python\\Python311\\site-packages\\numba\\__init__.py:55\u001b[0m\n\u001b[0;32m     50\u001b[0m             msg \u001b[39m=\u001b[39m (\u001b[39m\"\u001b[39m\u001b[39mNumba requires SciPy version 1.0 or greater. Got SciPy \u001b[39m\u001b[39m\"\u001b[39m\n\u001b[0;32m     51\u001b[0m                    \u001b[39mf\u001b[39m\u001b[39m\"\u001b[39m\u001b[39m{\u001b[39;00mscipy\u001b[39m.\u001b[39m__version__\u001b[39m}\u001b[39;00m\u001b[39m.\u001b[39m\u001b[39m\"\u001b[39m)\n\u001b[0;32m     52\u001b[0m             \u001b[39mraise\u001b[39;00m \u001b[39mImportError\u001b[39;00m(msg)\n\u001b[1;32m---> 55\u001b[0m _ensure_critical_deps()\n\u001b[0;32m     56\u001b[0m \u001b[39m# END DO NOT MOVE\u001b[39;00m\n\u001b[0;32m     57\u001b[0m \u001b[39m# ---------------------- WARNING WARNING WARNING ----------------------------\u001b[39;00m\n\u001b[0;32m     60\u001b[0m \u001b[39mfrom\u001b[39;00m \u001b[39m.\u001b[39;00m\u001b[39m_version\u001b[39;00m \u001b[39mimport\u001b[39;00m get_versions\n",
      "File \u001b[1;32m~\\AppData\\Roaming\\Python\\Python311\\site-packages\\numba\\__init__.py:42\u001b[0m, in \u001b[0;36m_ensure_critical_deps\u001b[1;34m()\u001b[0m\n\u001b[0;32m     40\u001b[0m     \u001b[39mraise\u001b[39;00m \u001b[39mImportError\u001b[39;00m(msg)\n\u001b[0;32m     41\u001b[0m \u001b[39melif\u001b[39;00m numpy_version \u001b[39m>\u001b[39m (\u001b[39m1\u001b[39m, \u001b[39m25\u001b[39m):\n\u001b[1;32m---> 42\u001b[0m     \u001b[39mraise\u001b[39;00m \u001b[39mImportError\u001b[39;00m(\u001b[39m\"\u001b[39m\u001b[39mNumba needs NumPy 1.25 or less\u001b[39m\u001b[39m\"\u001b[39m)\n\u001b[0;32m     43\u001b[0m \u001b[39mtry\u001b[39;00m:\n\u001b[0;32m     44\u001b[0m     \u001b[39mimport\u001b[39;00m \u001b[39mscipy\u001b[39;00m\n",
      "\u001b[1;31mImportError\u001b[0m: Numba needs NumPy 1.25 or less"
     ]
    }
   ],
   "source": [
    "import muDIC as dic\n",
    "\n",
    "path = r\"/HEK/sequence/\"\n",
    "image_stack = dic.image_stack_from_folder(path, file_type=\".tif\")"
   ]
  }
 ],
 "metadata": {
  "kernelspec": {
   "display_name": "Python 3",
   "language": "python",
   "name": "python3"
  },
  "language_info": {
   "codemirror_mode": {
    "name": "ipython",
    "version": 3
   },
   "file_extension": ".py",
   "mimetype": "text/x-python",
   "name": "python",
   "nbconvert_exporter": "python",
   "pygments_lexer": "ipython3",
   "version": "3.10.2"
  },
  "orig_nbformat": 4
 },
 "nbformat": 4,
 "nbformat_minor": 2
}
